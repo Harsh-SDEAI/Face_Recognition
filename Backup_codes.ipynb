{
 "cells": [
  {
   "cell_type": "markdown",
   "metadata": {},
   "source": [
    "These file contains all the working codes which I have replaced now with the newer working codes"
   ]
  },
  {
   "cell_type": "code",
   "execution_count": null,
   "metadata": {},
   "outputs": [],
   "source": [
    "#old one\n",
    "            # Detect faces (with bounding boxes, probabilities, and landmarks)\n",
    "    #         boxes, confidences, landmarks = mtcnn_model.detect(image, landmarks=True)\n",
    "    #         if boxes is not None:\n",
    "    #             # Set a confidence threshold\n",
    "    #             threshold = 0.92\n",
    "    #             # Filter detected faces based on the confidence score\n",
    "    #             filtered_faces = [i for i, confidence in enumerate(confidences) if confidence > threshold]\n",
    "    #             #print(f\"this many filtered_faces{len(filtered_faces)}\")\n",
    "    #             # Save original image paths and face regions that pass the confidence threshold\n",
    "    #             for i in filtered_faces:\n",
    "    #                 box = boxes[i]  # Get the bounding box for the filtered face\n",
    "    #                 cropped_face = image.crop(box)\n",
    "    #                 if cropped_face is not None:\n",
    "    #                     left_eye = landmarks[0][0]\n",
    "    #                     #print(left_eye)\n",
    "    #                     right_eye = landmarks[0][1]\n",
    "    #                     #print(right_eye)\n",
    "    #                     aligned_face = alignment_procedure(cropped_face, left_eye, right_eye)\n",
    "    #                     match_photos_all.append(aligned_face)\n",
    "    #                     match_photos_paths.append(image_path)  # Store original image path\n",
    "    # return match_photos_paths  # Return list of original image paths"
   ]
  }
 ],
 "metadata": {
  "kernelspec": {
   "display_name": "Python 3",
   "language": "python",
   "name": "python3"
  },
  "language_info": {
   "name": "python",
   "version": "3.11.0"
  }
 },
 "nbformat": 4,
 "nbformat_minor": 2
}
