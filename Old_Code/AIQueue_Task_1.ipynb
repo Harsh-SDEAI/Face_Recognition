{
 "cells": [
  {
   "cell_type": "code",
   "execution_count": 34,
   "metadata": {},
   "outputs": [],
   "source": [
    "import torch\n",
    "import numpy as np\n",
    "from PIL import Image\n",
    "from torchvision.transforms.functional import to_pil_image\n",
    "from facenet_pytorch.models.mtcnn import PNet, RNet, ONet  # Import P-Net, R-Net, O-Net\n",
    "from facenet_pytorch import MTCNN\n",
    "import os\n",
    "import matplotlib.pyplot as plt\n",
    "from facenet_pytorch import InceptionResnetV1\n",
    "import cv2\n",
    "from sklearn.metrics.pairwise import cosine_similarity\n",
    "from torch.nn.functional import normalize\n",
    "import pyodbc as odbc\n",
    "import json\n",
    "from datetime import datetime\n",
    "import time"
   ]
  },
  {
   "cell_type": "code",
   "execution_count": 35,
   "metadata": {},
   "outputs": [],
   "source": [
    "SERVER_NAME = '192.168.1.101'\n",
    "DRIVER_NAME = 'ODBC Driver 17 for SQL Server'\n",
    "DATABASE_NAME = 'AI_Face_Recognition'\n",
    "cnxn = odbc.connect('DRIVER={ODBC Driver 17 for SQL Server}; \\\n",
    "                    SERVER='+SERVER_NAME+'; \\\n",
    "                    DATABASE = '+DATABASE_NAME+'; \\\n",
    "                    Uid=sa;Pwd=Masterly@123;')\n",
    "cur = cnxn.cursor()"
   ]
  },
  {
   "cell_type": "code",
   "execution_count": 36,
   "metadata": {},
   "outputs": [
    {
     "data": {
      "text/plain": [
       "<pyodbc.Cursor at 0x21ad0d479b0>"
      ]
     },
     "execution_count": 36,
     "metadata": {},
     "output_type": "execute_result"
    }
   ],
   "source": [
    "cur.execute(\"use AI_Face_Recognition\")"
   ]
  },
  {
   "cell_type": "code",
   "execution_count": 37,
   "metadata": {},
   "outputs": [],
   "source": [
    "# Set the duration for the loop to run (10 minutes = 600 seconds)\n",
    "duration = 1 * 60  # 10 minutes in seconds\n",
    "\n",
    "# Get the current time\n",
    "start_time = time.time()\n",
    "\n",
    "sql_query = \"\"\"\n",
    "    SELECT AITournamentQueueId, TournamentID, GameNumber, Teamkey1, Teamkey2, Status, ErrorMessage,\n",
    "           ProcessStartOn, ProcessEndOn, UpdatedBy, CreatedBy, UpdatedOn, CreatedOn\n",
    "    FROM AITournamentQueue\n",
    "\"\"\"\n",
    "# Run the loop while the elapsed time is less than the specified duration\n",
    "while time.time() - start_time < duration:\n",
    "    # Perform your task here\n",
    "    cur.execute(sql_query)\n",
    "    rows = cur.fetchall()\n",
    "    # Store the fetched rows in a Python variable (e.g., a list of dictionaries)\n",
    "    data = []\n",
    "    for row in rows:\n",
    "        # Assuming row is a tuple with the same column order as in the query\n",
    "        row_dict = {\n",
    "            'AITournamentQueueId': row[0],\n",
    "            'TournamentID': row[1],\n",
    "            'GameNumber': row[2],\n",
    "            'Teamkey1': row[3],\n",
    "            'Teamkey2': row[4],\n",
    "            'Status': row[5],\n",
    "            'ErrorMessage': row[6],\n",
    "            'ProcessStartOn': row[7],\n",
    "            'ProcessEndOn': row[8],\n",
    "            'UpdatedBy': row[9],\n",
    "            'CreatedBy': row[10],\n",
    "            'UpdatedOn': row[11],\n",
    "            'CreatedOn': row[12]\n",
    "        }\n",
    "        data.append(row_dict)\n",
    "\n",
    "    # You can add a sleep time to avoid consuming 100% CPU\n",
    "    time.sleep(1)  # Sleep for 1 second to avoid high CPU usage\n"
   ]
  },
  {
   "cell_type": "code",
   "execution_count": 38,
   "metadata": {},
   "outputs": [
    {
     "name": "stdout",
     "output_type": "stream",
     "text": [
      "[{'AITournamentQueueId': 1, 'TournamentID': 324, 'GameNumber': 363155, 'Teamkey1': '38753', 'Teamkey2': '38809', 'Status': 'Pending', 'ErrorMessage': None, 'ProcessStartOn': datetime.datetime(2024, 11, 14, 11, 51, 50, 763000), 'ProcessEndOn': datetime.datetime(2024, 11, 14, 11, 51, 50, 763000), 'UpdatedBy': None, 'CreatedBy': None, 'UpdatedOn': datetime.datetime(2024, 11, 14, 11, 51, 50, 763000), 'CreatedOn': datetime.datetime(2024, 11, 14, 11, 51, 50, 763000)}, {'AITournamentQueueId': 2, 'TournamentID': 324, 'GameNumber': 363156, 'Teamkey1': '38754', 'Teamkey2': '38810', 'Status': 'Pending', 'ErrorMessage': None, 'ProcessStartOn': datetime.datetime(2024, 11, 14, 12, 28, 15, 160000), 'ProcessEndOn': datetime.datetime(2024, 11, 14, 12, 28, 15, 160000), 'UpdatedBy': None, 'CreatedBy': None, 'UpdatedOn': datetime.datetime(2024, 11, 14, 12, 28, 15, 160000), 'CreatedOn': datetime.datetime(2024, 11, 14, 12, 28, 15, 160000)}]\n"
     ]
    }
   ],
   "source": [
    "print(data)"
   ]
  },
  {
   "cell_type": "code",
   "execution_count": 39,
   "metadata": {},
   "outputs": [
    {
     "name": "stdout",
     "output_type": "stream",
     "text": [
      "________________________________________\n",
      "AITournamentQueueId:1\n",
      "TournamentID:324\n",
      "GameNumber:363155\n",
      "Teamkey1:38753\n",
      "Teamkey2:38809\n",
      "Status:Pending\n",
      "ErrorMessage:None\n",
      "ProcessStartOn:2024-11-14 11:51:50.763000\n",
      "ProcessEndOn:2024-11-14 11:51:50.763000\n",
      "UpdatedBy:None\n",
      "CreatedBy:None\n",
      "UpdatedOn:2024-11-14 11:51:50.763000\n",
      "CreatedOn:2024-11-14 11:51:50.763000\n",
      "________________________________________\n",
      "AITournamentQueueId:2\n",
      "TournamentID:324\n",
      "GameNumber:363156\n",
      "Teamkey1:38754\n",
      "Teamkey2:38810\n",
      "Status:Pending\n",
      "ErrorMessage:None\n",
      "ProcessStartOn:2024-11-14 12:28:15.160000\n",
      "ProcessEndOn:2024-11-14 12:28:15.160000\n",
      "UpdatedBy:None\n",
      "CreatedBy:None\n",
      "UpdatedOn:2024-11-14 12:28:15.160000\n",
      "CreatedOn:2024-11-14 12:28:15.160000\n"
     ]
    }
   ],
   "source": [
    "for i in data:\n",
    "    print(\"_\" * 40)\n",
    "    for j in i:\n",
    "        print(f\"{j}:{i[j]}\")"
   ]
  },
  {
   "cell_type": "code",
   "execution_count": null,
   "metadata": {},
   "outputs": [],
   "source": []
  },
  {
   "cell_type": "code",
   "execution_count": null,
   "metadata": {},
   "outputs": [],
   "source": []
  },
  {
   "cell_type": "code",
   "execution_count": null,
   "metadata": {},
   "outputs": [],
   "source": []
  }
 ],
 "metadata": {
  "kernelspec": {
   "display_name": "Python 3",
   "language": "python",
   "name": "python3"
  },
  "language_info": {
   "codemirror_mode": {
    "name": "ipython",
    "version": 3
   },
   "file_extension": ".py",
   "mimetype": "text/x-python",
   "name": "python",
   "nbconvert_exporter": "python",
   "pygments_lexer": "ipython3",
   "version": "3.11.0"
  }
 },
 "nbformat": 4,
 "nbformat_minor": 2
}
