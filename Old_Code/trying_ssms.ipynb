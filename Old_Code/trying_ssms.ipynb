{
 "cells": [
  {
   "cell_type": "code",
   "execution_count": 2,
   "metadata": {},
   "outputs": [
    {
     "name": "stderr",
     "output_type": "stream",
     "text": [
      "c:\\Users\\harsh.n\\AppData\\Local\\Programs\\Python\\Python311\\Lib\\site-packages\\tqdm\\auto.py:21: TqdmWarning: IProgress not found. Please update jupyter and ipywidgets. See https://ipywidgets.readthedocs.io/en/stable/user_install.html\n",
      "  from .autonotebook import tqdm as notebook_tqdm\n"
     ]
    }
   ],
   "source": [
    "import torch\n",
    "import numpy as np\n",
    "from PIL import Image\n",
    "from torchvision.transforms.functional import to_pil_image\n",
    "from facenet_pytorch.models.mtcnn import PNet, RNet, ONet  # Import P-Net, R-Net, O-Net\n",
    "from facenet_pytorch import MTCNN\n",
    "import os\n",
    "import matplotlib.pyplot as plt\n",
    "from facenet_pytorch import InceptionResnetV1\n",
    "import cv2\n",
    "from sklearn.metrics.pairwise import cosine_similarity\n",
    "from torch.nn.functional import normalize\n",
    "import pyodbc as odbc\n",
    "import json\n",
    "from datetime import datetime\n"
   ]
  },
  {
   "cell_type": "code",
   "execution_count": 126,
   "metadata": {},
   "outputs": [],
   "source": [
    "SERVER_NAME = '192.168.1.101'\n",
    "DRIVER_NAME = 'ODBC Driver 17 for SQL Server'\n",
    "DATABASE_NAME = 'AI_Face_Recognition'\n",
    "cnxn = odbc.connect('DRIVER={ODBC Driver 17 for SQL Server}; \\\n",
    "                    SERVER='+SERVER_NAME+'; \\\n",
    "                    DATABASE = '+DATABASE_NAME+'; \\\n",
    "                    Uid=sa;Pwd=Masterly@123;')\n",
    "cur = cnxn.cursor()"
   ]
  },
  {
   "cell_type": "code",
   "execution_count": 127,
   "metadata": {},
   "outputs": [
    {
     "data": {
      "text/plain": [
       "<pyodbc.Cursor at 0x27113c26230>"
      ]
     },
     "execution_count": 127,
     "metadata": {},
     "output_type": "execute_result"
    }
   ],
   "source": [
    "cur.execute(\"use AI_Face_Recognition\")"
   ]
  },
  {
   "cell_type": "code",
   "execution_count": 129,
   "metadata": {},
   "outputs": [],
   "source": [
    "Studio_image_path = r'E:\\2024\\hires\\324\\Studio\\20240222\\2024-JUNE 13-TEAM-38753-20240222-LT OUTLAWS-ROSTER-467624-P-DECLAN KOLLUS (P)-1.jpg'"
   ]
  },
  {
   "cell_type": "code",
   "execution_count": 130,
   "metadata": {},
   "outputs": [],
   "source": [
    "# Define fine-tuned P-Net, R-Net, and O-Net for finetuning\n",
    "class FinetunedMTCNN(MTCNN):\n",
    "#(self, image_size=160, margin=5, **kwargs): # use this after some time to improve the final results\n",
    "    def __init__(self, **kwargs):\n",
    "        super(FinetunedMTCNN, self).__init__(**kwargs)\n",
    "        # Create your custom, finetuned P-Net, R-Net, O-Net here\n",
    "        self.pnet = PNet()\n",
    "        self.rnet = RNet()\n",
    "        self.onet = ONet()\n",
    "    def forward(self, x):\n",
    "        # Overriding forward pass if additional finetuning is needed\n",
    "        return super().forward(x)"
   ]
  },
  {
   "cell_type": "code",
   "execution_count": 131,
   "metadata": {},
   "outputs": [],
   "source": [
    "# Initialize FaceNet model\n",
    "facenet = InceptionResnetV1(pretrained='vggface2').eval()  # Load the FaceNet model\n",
    "# Initialize mtcnn model\n",
    "finetuned_mtcnn = FinetunedMTCNN(keep_all=True, device='cuda:0' if torch.cuda.is_available() else 'cpu', min_face_size=60)"
   ]
  },
  {
   "cell_type": "code",
   "execution_count": 132,
   "metadata": {},
   "outputs": [],
   "source": [
    "def find_euclidean_distance(src, dst):\n",
    "    return np.linalg.norm(src - dst)"
   ]
  },
  {
   "cell_type": "code",
   "execution_count": 133,
   "metadata": {},
   "outputs": [],
   "source": [
    "def alignment_procedure(img, left_eye, right_eye):    \n",
    "    left_eye_x, left_eye_y = left_eye\n",
    "    right_eye_x, right_eye_y = right_eye\n",
    "    \n",
    "    # Find the direction to rotate the image based on the eye coordinates\n",
    "    if left_eye_y > right_eye_y:\n",
    "        point_3rd = (right_eye_x, left_eye_y)\n",
    "        direction = -1  # Clockwise\n",
    "    else:\n",
    "        point_3rd = (left_eye_x, right_eye_y)\n",
    "        direction = 1  # Counter-clockwise\n",
    "    \n",
    "    # Calculate the length of the triangle edges\n",
    "    a = find_euclidean_distance(np.array(left_eye), np.array(point_3rd))\n",
    "    b = find_euclidean_distance(np.array(right_eye), np.array(point_3rd))\n",
    "    c = find_euclidean_distance(np.array(left_eye), np.array(right_eye))\n",
    "    \n",
    "    # Apply cosine rule to find the angle\n",
    "    if b != 0 and c != 0:  # Avoid division by zero\n",
    "        cos_a = (b**2 + c**2 - a**2) / (2 * b * c)\n",
    "        angle = np.arccos(cos_a)  # Angle in radians\n",
    "        angle = np.degrees(angle)  # Convert to degrees\n",
    "        \n",
    "        # Adjust the angle based on the rotation direction\n",
    "        if direction == -1:\n",
    "            angle = 90 - angle\n",
    "        \n",
    "        # Rotate the image using PIL\n",
    "        #img = Image.fromarray(img)\n",
    "        img = img.rotate(direction * angle, resample=Image.BICUBIC)\n",
    "        img = np.array(img)  # Convert back to numpy array\n",
    "        # aligned_img_pil = Image.fromarray(img)  # Convert back to PIL Image for saving\n",
    "        # aligned_img_pil.show()\n",
    "    return img"
   ]
  },
  {
   "cell_type": "code",
   "execution_count": 134,
   "metadata": {},
   "outputs": [],
   "source": [
    "# Function to perform face detection and store image paths with their cropped face regions\n",
    "def get_faces_studio(mtcnn_model, margin=0):\n",
    "            global studio_photos_all, studio_photos_paths\n",
    "            studio_photos_all = []\n",
    "            studio_photos_paths = []\n",
    "            image_path = Studio_image_path\n",
    "            image = Image.open(image_path)\n",
    "            boxes, confidences, landmarks = mtcnn_model.detect(image, landmarks=True)\n",
    "            if boxes is not None:\n",
    "                # Set a confidence threshold\n",
    "                threshold = 0.95\n",
    "                # Filter detected faces based on the confidence score\n",
    "                filtered_faces = [i for i, confidence in enumerate(confidences) if confidence > threshold]\n",
    "                # Process each filtered face\n",
    "                for i in filtered_faces:\n",
    "                    box = boxes[i]  # Get the bounding box for the filtered face\n",
    "                    box = [int(b) for b in box]  # Ensure the box is in integer format\n",
    "                    # adding margin around the box\n",
    "                    # Apply margin to the bounding box\n",
    "                    x1 = max(0, box[0] - margin)  # Left\n",
    "                    y1 = max(0, box[1] - margin)  # Top\n",
    "                    x2 = min(image.width, box[2] + margin)  # Right\n",
    "                    y2 = min(image.height, box[3] + margin)  # Bottom\n",
    "                    # Crop the face from the image\n",
    "                    cropped_face = image.crop((x1, y1, x2, y2))\n",
    "                    if cropped_face is not None:\n",
    "                        # Get the landmarks (left and right eyes) for the current face\n",
    "                        left_eye = landmarks[i][0]  # Left eye coordinates for face i\n",
    "                        right_eye = landmarks[i][1]  # Right eye coordinates for face i\n",
    "                        # Align the cropped face using the eye coordinates\n",
    "                        aligned_face = alignment_procedure(cropped_face, left_eye, right_eye)\n",
    "                        # Store the aligned face and the original image path\n",
    "                        studio_photos_all.append(aligned_face)\n",
    "                        studio_photos_paths.append(image_path)  # Store original image path \n",
    "                        \n",
    "            return studio_photos_paths\n"
   ]
  },
  {
   "cell_type": "code",
   "execution_count": 31,
   "metadata": {},
   "outputs": [],
   "source": [
    "x = []\n",
    "for i in x:\n",
    "    print(2+2)"
   ]
  },
  {
   "cell_type": "code",
   "execution_count": 135,
   "metadata": {},
   "outputs": [],
   "source": [
    "def get_face_embedding(image):\n",
    "    image = cv2.resize(image, (160, 160))\n",
    "    image = torch.tensor(image).permute(2, 0, 1).unsqueeze(0).float() / 255.0\n",
    "    embedding = facenet(image)\n",
    "    # this can be added or removed according to the data (pending decision)\n",
    "   # embedding = normalize(embedding, p=2, dim=1)# L2 normalization of embeddings\n",
    "    np_embedding =   embedding.detach().numpy()\n",
    "    return np_embedding"
   ]
  },
  {
   "cell_type": "code",
   "execution_count": 136,
   "metadata": {},
   "outputs": [],
   "source": [
    "# Process both match and studio images, and return original image paths\n",
    "studio_photos_paths = get_faces_studio(finetuned_mtcnn, margin=200)"
   ]
  },
  {
   "cell_type": "code",
   "execution_count": null,
   "metadata": {},
   "outputs": [
    {
     "name": "stdout",
     "output_type": "stream",
     "text": [
      "[0.008038179948925972, 0.04973822832107544, 0.03338813781738281, -0.04738432541489601, 0.047333065420389175, 0.009302068501710892, 0.012250423431396484, -0.056327078491449356, 0.04163767397403717, 0.05838329344987869, 0.016510959714651108, 0.027795398607850075, -0.022474460303783417, 0.030728504061698914, -0.02278393879532814, -0.003561483696103096, -0.023383134976029396, 0.002546887844800949, 0.012162278406322002, 0.06040704995393753, -0.019420387223362923, -0.021191813051700592, 0.07958200573921204, -0.07489603012800217, -0.05457344278693199, 0.024988580495119095, 0.01793675683438778, -0.0014716885052621365, -0.004705463536083698, -0.008717170916497707, 0.05467298999428749, 0.0364239402115345, 0.0024558540899306536, -0.03288187086582184, 0.03807282820343971, -0.04578068107366562, -0.0002338398335268721, 0.0022584351245313883, -0.0058266595005989075, 0.016943980008363724, -0.01282658614218235, -0.056612927466630936, -0.034499846398830414, 0.10169484466314316, 0.013047096319496632, -0.06274649500846863, -0.045241013169288635, 0.052596282213926315, -0.06102548912167549, -0.006587323732674122, -0.05395765230059624, -0.094253309071064, -0.04600517824292183, -0.03315916657447815, -0.061104916036129, 0.05374288931488991, -0.021953340619802475, 0.02474106103181839, 0.0013468555407598615, 0.011557577177882195, 0.033256951719522476, 0.027377011254429817, -0.010714597068727016, 0.040898654609918594, -0.03371873497962952, -0.03594161570072174, -0.04806675761938095, -0.07407138496637344, -0.07530131191015244, 0.01821967214345932, 0.010200679302215576, 0.022998960688710213, 0.016902321949601173, -0.030253320932388306, -0.07524631172418594, -0.04085773229598999, -0.030750198289752007, -0.03716985508799553, 0.056607265025377274, -0.017406312748789787, 0.0040155029855668545, -0.015323574654757977, -0.09350371360778809, 0.008000541478395462, 0.038911689072847366, -0.04027149826288223, -0.038920484483242035, 0.06661972403526306, -0.05778662487864494, 0.011020755395293236, 0.026080531999468803, -0.07899777591228485, 0.06844031810760498, -0.0882297158241272, 0.06743238866329193, -0.0634831115603447, -0.014105107635259628, 0.09962757676839828, 0.00798007007688284, -0.004533444065600634, 0.11442998796701431, 0.0757579505443573, -0.033898621797561646, 0.1078283041715622, 0.046868979930877686, 0.011745475232601166, -0.02559131383895874, 0.0522676557302475, 0.01073992345482111, 0.0063459789380431175, 0.007820842787623405, -0.0037334864027798176, -0.007155615370720625, -0.02961679734289646, -0.0035473841708153486, -0.031487978994846344, 0.0028200375381857157, 0.04124191030859947, 0.04431106522679329, -0.028786322101950645, 0.0403723418712616, -0.029467420652508736, -0.030097516253590584, 0.018368050456047058, -0.0421358123421669, -0.045308809727430344, 0.06283818185329437, -0.01539095863699913, -0.05259412154555321, 0.03841020166873932, -0.08502840250730515, -0.012205765582621098, 0.036625128239393234, -0.058984506875276566, -0.025154277682304382, -0.01995353400707245, -0.0037914414424449205, -0.006718383636325598, 0.008436429314315319, 0.09096997231245041, 0.03674789518117905, -0.024090493097901344, -0.06367797404527664, 0.02871319092810154, -0.055527202785015106, -0.026846909895539284, 0.025769932195544243, 0.01787513494491577, -0.015495373867452145, 0.002085199113935232, 0.03443196788430214, 0.10292372852563858, 0.013914444483816624, -0.0379825159907341, 0.0484527051448822, 0.0015236206818372011, -0.08960720896720886, 0.013736660592257977, 0.005337824113667011, -0.0038166739977896214, 0.02517639845609665, 0.00934689026325941, 0.03510475903749466, 0.046373385936021805, -0.01955655962228775, -0.06427755951881409, 0.07090573757886887, -0.031979821622371674, 0.006538784597069025, 0.005062272772192955, -0.036014020442962646, -0.027122704312205315, -0.022854238748550415, -0.022886812686920166, 0.011744650080800056, 0.010762213729321957, -0.06696507334709167, 0.015497829765081406, 0.03252698481082916, -0.006764363497495651, -0.031434301286935806, 0.035594139248132706, -0.07714569568634033, 0.004624597262591124, 0.042737480252981186, -0.00785886775702238, 0.013215702027082443, 0.07422374933958054, -0.017463263124227524, 0.024885540828108788, 0.050543636083602905, 0.009936533868312836, 0.035419341176748276, -0.061499517410993576, 0.08495362102985382, -0.009718228131532669, -0.05050548166036606, -0.009647992439568043, 0.06093239784240723, -0.0565967783331871, 0.05762360990047455, -0.047294795513153076, -0.020948031917214394, -0.05849439278244972, 0.027971254661679268, 0.07493439316749573, 0.025238214060664177, -0.01385580189526081, 0.0497090145945549, -0.021465109661221504, -0.09186174720525742, -0.05277526378631592, 0.0036009096074849367, -0.06952905654907227, 0.024691754952073097, -0.05784881114959717, -0.00871641281992197, 0.03380806744098663, 0.012539091520011425, 0.09605006128549576, -0.04072541743516922, 0.06790409237146378, 0.04001409932971001, 0.02810187265276909, 0.030870946124196053, 0.013354199007153511, 0.04634448513388634, -0.012455007061362267, -0.10382122546434402, 0.05744514986872673, -0.014257021248340607, -0.01848655194044113, -0.04593544825911522, -0.008044175803661346, -0.03361371532082558, 0.010548913851380348, 0.02116696909070015, -0.014452164992690086, -0.012281778268516064, -0.0006438987329602242, -0.020147383213043213, 0.00865497812628746, 0.012736323289573193, -0.015681816264986992, -0.02499738708138466, -0.03398679196834564, -0.02768217958509922, 0.006343505345284939, -0.009780150838196278, 0.09303700923919678, -0.013664176687598228, -0.015348353423178196, 0.02261308953166008, 0.002365095540881157, -0.04889871925115585, 0.04018902778625488, -0.04059717804193497, 0.12160752713680267, 0.006536218337714672, 0.06792838126420975, 0.007825738750398159, 0.032489221543073654, 0.033820901066064835, 0.09767530858516693, 0.07904886454343796, -0.018443306908011436, 0.02024289220571518, 0.004775513429194689, 0.05164690688252449, -0.04254443570971489, 0.05565425753593445, -0.038242846727371216, 0.029347309842705727, 0.04720389097929001, -0.04448142647743225, 0.030537772923707962, 0.050709519535303116, 0.018218183889985085, 0.026107879355549812, -0.06531111896038055, -0.010143976658582687, 0.09395851939916611, 0.03303782641887665, -0.014973960816860199, 0.013279217295348644, -0.07245813310146332, 0.0014568665064871311, 0.0265935268253088, 0.04097004979848862, -0.03489278256893158, 0.002962530357763171, -0.0014613765524700284, -0.03211938589811325, 0.009679515846073627, 0.0006366678862832487, -0.045332275331020355, 0.013953275978565216, -0.029107708483934402, 0.03759251907467842, -0.04258193448185921, -0.04804045334458351, 0.07375984638929367, -0.08692510426044464, -0.06522329151630402, 0.003301455406472087, 0.05183730646967888, 0.0067739421501755714, -0.0031546801328659058, -0.03562111407518387, 0.055504828691482544, 0.0025081634521484375, -0.021067386493086815, -0.04289890453219414, -0.02006986364722252, 0.00826440192759037, -0.017585046589374542, -0.04912574589252472, 0.013549244031310081, -0.034410521388053894, -0.07624735683202744, -0.0201218631118536, -0.02554851397871971, -0.08777819573879242, 0.05348363518714905, -0.02376437745988369, 0.03397112712264061, 0.0022108687553554773, 0.07963790744543076, -0.008708728477358818, -0.03950619325041771, 0.0036336155608296394, 0.008997755125164986, -0.061476610600948334, -0.0012780943652614951, 0.010712987743318081, 0.007672354578971863, 0.032529909163713455, -0.00537545420229435, -0.054326366633176804, -0.04123562574386597, -0.037708722054958344, 0.007116420194506645, 0.06031228229403496, 0.04870327562093735, -0.06616021692752838, 0.0841105580329895, -0.006190076470375061, -0.028387799859046936, -0.015371687710285187, 0.07016954571008682, -0.01912822388112545, 0.007540268823504448, 0.022797610610723495, -0.007860316894948483, -0.05185708403587341, -0.04739842563867569, 0.06739860773086548, 0.03312784433364868, 0.06206180900335312, -0.06697603315114975, -0.029986828565597534, 0.0132175013422966, -0.02655625343322754, -0.06256738305091858, 0.0018972823163494468, -0.01025472767651081, -0.002342211315408349, -0.0010345873888581991, -0.0035265886690467596, -0.028041113168001175, -0.07676610350608826, -0.03847009316086769, -0.04473518952727318, 0.12084802985191345, 0.08801761269569397, 0.010899747721850872, 0.01719796098768711, 0.07381993532180786, -0.025480277836322784, 0.027281885966658592, 0.018056362867355347, -0.02855071984231472, -0.04502873495221138, 0.009504374116659164, 0.022366240620613098, -0.06305940449237823, 0.052549492567777634, 0.058128684759140015, -0.06304766982793808, -0.009816683828830719, 0.0731743574142456, -0.019562367349863052, -0.03174200281500816, 0.03093593195080757, 0.060625333338975906, -0.05299845337867737, -0.016000529751181602, 0.025431165471673012, -0.05482548102736473, -0.05551516264677048, -0.004266834352165461, -0.02381402626633644, 0.021379420533776283, 0.012082320638000965, 0.008071504533290863, 0.056359682232141495, -0.07641581445932388, -0.07117598503828049, 0.052793245762586594, -0.015411308035254478, 0.004627551883459091, 0.08604900538921356, -0.058692194521427155, -0.0011498586973175406, 0.052038758993148804, 0.005798054859042168, 0.013470741920173168, 0.06547537446022034, -0.07025262713432312, -0.05712459981441498, 0.0651659220457077, -0.025239253416657448, -0.002806135220453143, 0.036585915833711624, 0.031016163527965546, 0.051383376121520996, 0.051550935953855515, -0.07194982469081879, -0.005822670646011829, 0.023970676586031914, -0.10841711610555649, 0.006633526645600796, 0.01808049902319908, -0.0511646494269371, 0.0015436264220625162, 0.05630826950073242, -0.05951560661196709, -0.013495496474206448, -0.05094628036022186, -0.005100203212350607, -0.0022293152287602425, 0.037307001650333405, -0.015276776626706123, -0.017409395426511765, -0.06334001570940018, -0.020062748342752457, 0.010452843271195889, -0.02799595706164837, -0.03442440181970596, -0.0022586467675864697, 0.0582067146897316, 0.021334854885935783, 0.0063212779350578785, 0.048244658857584, -0.0037424617912620306, 0.016859043389558792, -0.06149369478225708, 0.03602426499128342, 0.04595863074064255, -0.04668693244457245, 0.03842126578092575, 0.06496062129735947, 0.009977254085242748, 0.041694656014442444, 0.0013128493446856737, 0.04211647808551788, -0.02794443815946579, 0.009166409261524677, 0.0593448169529438, 0.0017392433946952224, 0.011604840867221355, -0.02652735821902752, 0.048911064863204956, -0.09582211077213287, -0.028971511870622635, 0.02729540877044201, 0.06800138205289841, 0.05743765830993652, -0.014054130762815475, -0.021659988909959793, 0.004950192291289568, 0.024194205179810524, -0.024342572316527367, 0.0849863588809967, 0.04173033684492111, 0.05774126201868057, -0.03208725154399872, 0.03596773371100426, 0.05999455973505974, -0.1259351521730423, 0.007957951165735722, -0.02389366738498211, -0.09267205744981766, -0.058546032756567, -0.0003292126639280468, 0.004959139972925186, -0.06981946527957916, -0.09471966326236725, -0.0314486138522625, -0.0741516575217247, -0.06612605601549149, 0.006375119090080261, -0.01928083784878254, -0.018421197310090065, -0.04458137974143028, 0.039169516414403915, 0.00802193209528923, -0.022142905741930008, -0.0691647157073021, -0.06001736596226692, 0.016962936148047447, 0.01620301976799965]\n"
     ]
    },
    {
     "ename": "ProgrammingError",
     "evalue": "('Invalid parameter type.  param-index=2 param-type=set', 'HY105')",
     "output_type": "error",
     "traceback": [
      "\u001b[1;31m---------------------------------------------------------------------------\u001b[0m",
      "\u001b[1;31mProgrammingError\u001b[0m                          Traceback (most recent call last)",
      "Cell \u001b[1;32mIn[142], line 16\u001b[0m\n\u001b[0;32m     14\u001b[0m     UpdatedOn \u001b[38;5;241m=\u001b[39m datetime\u001b[38;5;241m.\u001b[39mnow()\u001b[38;5;241m.\u001b[39misoformat()\n\u001b[0;32m     15\u001b[0m     CreatedOn \u001b[38;5;241m=\u001b[39m datetime\u001b[38;5;241m.\u001b[39mnow()\u001b[38;5;241m.\u001b[39misoformat()\n\u001b[1;32m---> 16\u001b[0m     \u001b[43mcur\u001b[49m\u001b[38;5;241;43m.\u001b[39;49m\u001b[43mexecute\u001b[49m\u001b[43m(\u001b[49m\u001b[38;5;124;43mf\u001b[39;49m\u001b[38;5;124;43m\"\"\"\u001b[39;49m\n\u001b[0;32m     17\u001b[0m \u001b[38;5;124;43mINSERT INTO PlayerPhotoEmbedding (RosterID, TournamentID, SFaceEmbeddings, ImagePath, TeamKey, UpdatedOn, CreatedOn)\u001b[39;49m\n\u001b[0;32m     18\u001b[0m \u001b[38;5;124;43mVALUES(?,?,?,?,?,?,?)\u001b[39;49m\n\u001b[0;32m     19\u001b[0m \u001b[38;5;124;43m\"\"\"\u001b[39;49m\u001b[43m,\u001b[49m\u001b[43m \u001b[49m\u001b[43mRosterID\u001b[49m\u001b[43m,\u001b[49m\u001b[43m \u001b[49m\u001b[43mTournamentID\u001b[49m\u001b[43m,\u001b[49m\u001b[43m \u001b[49m\u001b[43mSFaceEmbeddings\u001b[49m\u001b[43m,\u001b[49m\u001b[43m \u001b[49m\u001b[43mImagePath\u001b[49m\u001b[43m,\u001b[49m\u001b[43m \u001b[49m\u001b[43mTeamKey\u001b[49m\u001b[43m,\u001b[49m\u001b[43m \u001b[49m\u001b[43mUpdatedOn\u001b[49m\u001b[43m,\u001b[49m\u001b[43m \u001b[49m\u001b[43mCreatedOn\u001b[49m\u001b[43m)\u001b[49m\n\u001b[0;32m     20\u001b[0m     cnxn\u001b[38;5;241m.\u001b[39mcommit()\n\u001b[0;32m     21\u001b[0m     studio_embedding\u001b[38;5;241m.\u001b[39mappend(embedding)\n",
      "\u001b[1;31mProgrammingError\u001b[0m: ('Invalid parameter type.  param-index=2 param-type=set', 'HY105')"
     ]
    }
   ],
   "source": [
    "# Generate embeddings for studio photos\n",
    "studio_embedding = []\n",
    "for studio_photo in studio_photos_all:\n",
    "    studio_image = np.array(studio_photo)  # Convert the PIL image to a NumPy array\n",
    "    embeddings = get_face_embedding(studio_image)  # Get embedding\n",
    "    for embedding in embeddings:\n",
    "        embedding_str = json.dumps(embedding.tolist())    \n",
    "        studio_embedding.append(embedding)\n"
   ]
  },
  {
   "cell_type": "code",
   "execution_count": 18,
   "metadata": {},
   "outputs": [
    {
     "name": "stdout",
     "output_type": "stream",
     "text": [
      "<class 'int'>\n"
     ]
    }
   ],
   "source": [
    "emb = 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n",
    "print(type(emb))"
   ]
  },
  {
   "cell_type": "code",
   "execution_count": null,
   "metadata": {},
   "outputs": [],
   "source": [
    "emb_bytes = emb.to_bytes((emb.bit_length() + 7) // 8, byteorder='big')\n",
    "retrieved_array = np.frombuffer(emb_bytes, dtype=np.float32).reshape(1, -1)"
   ]
  },
  {
   "cell_type": "code",
   "execution_count": 26,
   "metadata": {},
   "outputs": [
    {
     "name": "stdout",
     "output_type": "stream",
     "text": [
      "Are the arrays identical? False\n"
     ]
    }
   ],
   "source": [
    "import numpy as np\n",
    "\n",
    "# Assuming array_1 and array_2 are NumPy arrays\n",
    "are_identical = np.array_equal(retrieved_array, array_2)\n",
    "\n",
    "print(\"Are the arrays identical?\", are_identical)\n"
   ]
  },
  {
   "cell_type": "code",
   "execution_count": null,
   "metadata": {},
   "outputs": [],
   "source": []
  },
  {
   "cell_type": "code",
   "execution_count": null,
   "metadata": {},
   "outputs": [],
   "source": [
    "print(retrieved_array)"
   ]
  },
  {
   "cell_type": "code",
   "execution_count": 124,
   "metadata": {},
   "outputs": [
    {
     "name": "stdout",
     "output_type": "stream",
     "text": [
      "2024-11-14T11:18:30.912824\n"
     ]
    }
   ],
   "source": [
    "from datetime import datetime\n",
    "\n",
    "current_timestamp = datetime.now().isoformat()\n",
    "print(current_timestamp)\n"
   ]
  },
  {
   "cell_type": "code",
   "execution_count": 115,
   "metadata": {},
   "outputs": [
    {
     "ename": "ProgrammingError",
     "evalue": "Attempt to use a closed cursor.",
     "output_type": "error",
     "traceback": [
      "\u001b[1;31m---------------------------------------------------------------------------\u001b[0m",
      "\u001b[1;31mProgrammingError\u001b[0m                          Traceback (most recent call last)",
      "Cell \u001b[1;32mIn[115], line 1\u001b[0m\n\u001b[1;32m----> 1\u001b[0m \u001b[43mcur\u001b[49m\u001b[38;5;241;43m.\u001b[39;49m\u001b[43mexecute\u001b[49m\u001b[43m(\u001b[49m\u001b[38;5;124;43m\"\"\"\u001b[39;49m\n\u001b[0;32m      2\u001b[0m \u001b[38;5;124;43mINSERT INTO PlayerPhotoEmbedding (PlayerEmbeddingID, RosterID, TournamentID, SFaceembeddings, ImagePath, TeamKey, UpdatedOn, CreatedOn)\u001b[39;49m\n\u001b[0;32m      3\u001b[0m \u001b[38;5;124;43mVALUES(1,1,1,1,1,1,1,1)    \u001b[39;49m\u001b[38;5;124;43m\"\"\"\u001b[39;49m\u001b[43m)\u001b[49m\n",
      "\u001b[1;31mProgrammingError\u001b[0m: Attempt to use a closed cursor."
     ]
    }
   ],
   "source": [
    "cur.execute(\"\"\"\n",
    "INSERT INTO PlayerPhotoEmbedding (PlayerEmbeddingID, RosterID, TournamentID, SFaceembeddings, ImagePath, TeamKey, UpdatedOn, CreatedOn)\n",
    "VALUES(1,1,1,1,1,1,1,1)    \"\"\")\n"
   ]
  },
  {
   "cell_type": "code",
   "execution_count": null,
   "metadata": {},
   "outputs": [],
   "source": [
    "cur.execute(\"\"\"\n",
    "    INSERT INTO PlayerEmbeddings (\n",
    "        RosterId,\n",
    "        TeamKey,\n",
    "        FaceEmbeddings,\n",
    "        ImagePath,\n",
    "        TournamentId,\n",
    "        UpdatedOn,\n",
    "        CreatedOn\n",
    "    )\n",
    "    SELECT \n",
    "        c.RosterId,\n",
    "        c.TeamKey,\n",
    "        :face_embeddings,\n",
    "        :image_path,\n",
    "        c.tournament_id,\n",
    "        CURRENT_TIMESTAMP,\n",
    "        CURRENT_TIMESTAMP\n",
    "    FROM \n",
    "        Constellation c\n",
    "    WHERE \n",
    "        c.RosterId = :roster_id;\n",
    "\"\"\", {\n",
    "    'face_embeddings': face_embeddings,\n",
    "    'image_path': image_path,\n",
    "})"
   ]
  },
  {
   "cell_type": "code",
   "execution_count": null,
   "metadata": {},
   "outputs": [],
   "source": [
    "query = \"\"\"INSERT INTO PlayerPhotoEmbedding (RosterID, TournamentID, SFaceembeddings, ImagePath, TeamKey, UpdatedOn, CreatedOn)\n",
    "SELECT \n",
    "    C.RosterID, \n",
    "    C.TournamentID, \n",
    "    @SFaceembeddings,  -- Placeholder for embedding value from code\n",
    "    @ImagePath,        -- Placeholder for image path from code\n",
    "    C.TeamKey, \n",
    "    @UpdatedOn,        -- Manual input for UpdatedOn\n",
    "    @CreatedOn         -- Manual input for CreatedOn\n",
    "FROM Constellation C\"\"\"\n"
   ]
  },
  {
   "cell_type": "code",
   "execution_count": 107,
   "metadata": {},
   "outputs": [
    {
     "ename": "ProgrammingError",
     "evalue": "(\"A TVP's rows must all be the same size.\", 'HY000')",
     "output_type": "error",
     "traceback": [
      "\u001b[1;31m---------------------------------------------------------------------------\u001b[0m",
      "\u001b[1;31mProgrammingError\u001b[0m                          Traceback (most recent call last)",
      "Cell \u001b[1;32mIn[107], line 14\u001b[0m\n\u001b[0;32m     11\u001b[0m UpdatedOn \u001b[38;5;241m=\u001b[39m \u001b[38;5;28;01mNone\u001b[39;00m\n\u001b[0;32m     12\u001b[0m CreatedOn \u001b[38;5;241m=\u001b[39m \u001b[38;5;28;01mNone\u001b[39;00m\n\u001b[1;32m---> 14\u001b[0m \u001b[43mcur\u001b[49m\u001b[38;5;241;43m.\u001b[39;49m\u001b[43mexecute\u001b[49m\u001b[43m(\u001b[49m\u001b[43mquery\u001b[49m\u001b[43m,\u001b[49m\u001b[43m \u001b[49m\u001b[43m(\u001b[49m\u001b[43mplayer_embedding_id\u001b[49m\u001b[43m,\u001b[49m\u001b[43m \u001b[49m\u001b[43mroster_id\u001b[49m\u001b[43m,\u001b[49m\u001b[43m \u001b[49m\u001b[43mtournament_id\u001b[49m\u001b[43m,\u001b[49m\u001b[43m \u001b[49m\u001b[43ms_face_embedding\u001b[49m\u001b[43m,\u001b[49m\u001b[43m \u001b[49m\u001b[43mimage_path\u001b[49m\u001b[43m,\u001b[49m\u001b[43m \u001b[49m\u001b[43mTeamKey\u001b[49m\u001b[43m,\u001b[49m\u001b[43m \u001b[49m\u001b[43mUpdatedOn\u001b[49m\u001b[43m,\u001b[49m\u001b[43m \u001b[49m\u001b[43mCreatedOn\u001b[49m\u001b[43m)\u001b[49m\u001b[43m)\u001b[49m\n\u001b[0;32m     15\u001b[0m cnxn\u001b[38;5;241m.\u001b[39mcommit()\n",
      "\u001b[1;31mProgrammingError\u001b[0m: (\"A TVP's rows must all be the same size.\", 'HY000')"
     ]
    }
   ],
   "source": [
    "query = \"\"\"\n",
    "INSERT INTO PlayerPhotoEmbedding (PlayerEmbeddingID, RosterID, TournamentID, SFaceEmbeddings, ImgePath, TeamKey, UpdatedOn, CreatedOn)\n",
    "VALUES (?, ?, ?, ?, ?, ?, ?, ?)\n",
    "\"\"\"\n",
    "player_embedding_id = 1\n",
    "roster_id = 1\n",
    "tournament_id = 324\n",
    "s_face_embedding = studio_embedding\n",
    "image_path = embedding\n",
    "TeamKey = 12345\n",
    "UpdatedOn = None\n",
    "CreatedOn = None\n",
    "\n",
    "cur.execute(query, (player_embedding_id, roster_id, tournament_id, s_face_embedding, image_path, TeamKey, UpdatedOn, CreatedOn))\n",
    "cnxn.commit()"
   ]
  },
  {
   "cell_type": "code",
   "execution_count": 114,
   "metadata": {},
   "outputs": [],
   "source": [
    "cnxn.close()"
   ]
  },
  {
   "cell_type": "code",
   "execution_count": null,
   "metadata": {},
   "outputs": [],
   "source": [
    "array_1 = [[-7.85858259e-02  7.12907538e-02  6.14989735e-03  2.01968499e-03\n",
    "   1.05386630e-01  6.76766112e-02  4.50795703e-02 -9.12087858e-02\n",
    "   2.40475461e-02  2.26881132e-02  1.99639313e-02 -6.04591565e-03\n",
    "  -2.26022545e-02 -2.12184414e-02 -3.76298614e-02  1.69947855e-02\n",
    "   5.76241016e-02  7.03313351e-02  1.89078785e-02 -1.18807203e-03\n",
    "  -2.36736480e-02 -1.72245875e-02  1.49688914e-01 -2.16134153e-02\n",
    "  -1.49916857e-02 -1.03599988e-02  8.34512413e-02 -1.15387021e-02\n",
    "  -3.25125456e-02 -2.35740747e-02 -2.46273447e-02  2.66832728e-02\n",
    "  -8.75416696e-02  5.00328861e-05  4.18236107e-02  2.25926028e-03\n",
    "   1.18978530e-01 -9.26278159e-02 -5.84242716e-02 -9.18131135e-03\n",
    "   3.63990851e-02 -2.71755550e-03  2.47715712e-02  4.30520289e-02\n",
    "   3.53986718e-04 -4.39844504e-02  4.32560407e-03  9.97797921e-02\n",
    "  -8.27569216e-02 -6.44123275e-03 -2.87720542e-02  8.26075021e-03\n",
    "   6.92043919e-03 -2.58962251e-02 -7.29530444e-03 -2.28166860e-02\n",
    "  -1.05293784e-02  1.76740773e-02  3.45979184e-02  6.28289729e-02\n",
    "   5.03405482e-02  9.17313271e-04  1.56406965e-02 -3.52854393e-02\n",
    "  -2.10615303e-02 -3.92226689e-02 -2.82533076e-02  1.94136500e-02\n",
    "  -1.95740517e-02  9.76680871e-03  7.89739937e-03 -5.20645864e-02\n",
    "   7.41816908e-02 -1.75762770e-03  3.04241162e-02 -4.79849502e-02\n",
    "   2.15197969e-02  1.04255313e-02 -8.85084923e-03 -1.49933454e-02\n",
    "  -6.34391978e-02 -2.80230939e-02 -6.31471798e-02  4.35941759e-03\n",
    "  -2.92150285e-02 -1.94797677e-03 -1.57842860e-02  2.08167825e-02\n",
    "  -5.37427962e-02 -1.44901928e-02 -2.87889186e-02  9.67802107e-03\n",
    "   1.29646827e-02 -2.28332318e-02  1.15639139e-02 -5.20023406e-02\n",
    "  -2.98444331e-02  4.71804515e-02  5.79011219e-04  6.76530600e-02\n",
    "   3.88565799e-03  3.47757004e-02 -1.12002485e-01  1.59905385e-02\n",
    "  -5.71685061e-02  2.19253469e-02 -2.60547772e-02  2.37526242e-02\n",
    "   3.20684165e-03 -1.61613896e-02  5.93491234e-02 -6.04400821e-02\n",
    "  -1.59658380e-02  3.64940725e-02  7.59720197e-03  2.79634129e-02\n",
    "   2.96679838e-03  1.35062905e-02  1.54368067e-02 -2.39694528e-02\n",
    "   9.17518362e-02 -4.96603642e-03  6.55537099e-02  5.18396944e-02\n",
    "   1.66625734e-02 -5.73155470e-02 -7.59790139e-03  9.43220183e-02\n",
    "  -3.22084911e-02  3.74817103e-02 -7.38385692e-02 -4.71956730e-02\n",
    "   2.27542035e-02 -5.21347523e-02 -6.73806518e-02  5.95778823e-02\n",
    "  -4.40821759e-02 -6.94389865e-02 -3.56284678e-02  3.04507073e-02\n",
    "  -9.65606980e-03 -8.59786049e-02 -2.14630198e-02  3.18369195e-02\n",
    "  -4.47963253e-02 -2.57919542e-02  8.91646743e-03 -2.22809538e-02\n",
    "   8.37932974e-02 -5.00750914e-02 -1.94424037e-02  7.04114959e-02\n",
    "   7.87835568e-03  2.59105559e-03  4.87441458e-02 -5.66135608e-02\n",
    "  -1.19226063e-02  2.71758903e-02 -6.15025964e-03  1.45611512e-02\n",
    "   5.59288636e-02  8.22071731e-02  3.44940368e-03  4.44333516e-02\n",
    "   4.69541699e-02 -7.73124350e-03  3.64487153e-03 -1.18693681e-02\n",
    "  -4.91062514e-02 -2.23374926e-02 -1.12697454e-02  9.49645508e-03\n",
    "  -2.74382159e-03 -2.32496187e-02  3.32912285e-04 -4.12296690e-02\n",
    "   2.50900239e-02  3.62673253e-02 -4.49263975e-02  4.14755344e-02\n",
    "  -3.39121968e-02  1.16720140e-01 -2.23896150e-02 -2.59592291e-02\n",
    "  -2.19265763e-02 -3.03970221e-02 -4.99693044e-02 -2.24840664e-03\n",
    "  -8.18728749e-03  2.94108856e-02 -3.68940085e-02  6.83805672e-03\n",
    "   3.32868174e-02 -5.89892492e-02  5.19727496e-03 -5.16012907e-02\n",
    "  -2.65075117e-02  8.13418999e-03  2.96069924e-02  1.31653026e-02\n",
    "   5.62360231e-03 -9.42009836e-02 -2.29766853e-02 -2.42116675e-02\n",
    "   2.09213840e-03  1.19759804e-02 -3.09383422e-02 -5.50317056e-02\n",
    "  -4.31498848e-02  3.24803852e-02 -9.54433111e-04 -1.79582201e-02\n",
    "  -1.12125631e-02 -2.63631828e-02 -3.09319124e-02  6.61286712e-02\n",
    "   2.73198653e-02 -1.41057223e-02 -1.36660114e-02 -2.83613708e-03\n",
    "   3.86521257e-02 -3.76581550e-02  9.80198011e-02 -6.49555773e-02\n",
    "   2.18478329e-02  1.01522148e-01  1.30588179e-02  1.18060103e-02\n",
    "   1.02808215e-02  5.55616803e-02 -7.71301007e-03  3.63279060e-02\n",
    "  -8.59640352e-03  7.83512741e-02  3.65371108e-02  2.21386310e-02\n",
    "  -3.94582003e-02 -9.71395224e-02  1.46435369e-02  3.37347463e-02\n",
    "  -4.64623310e-02 -6.50994107e-02 -8.24916875e-04 -3.07540931e-02\n",
    "   7.81192482e-02 -5.36969071e-03 -5.24689592e-02  1.69039685e-02\n",
    "   6.64833412e-02  3.45852249e-03  2.80485861e-02 -7.19003007e-03\n",
    "   9.25969519e-03 -6.18824698e-02  3.80047858e-02 -5.45680560e-02\n",
    "  -6.41162042e-03  3.48481201e-02 -1.90443527e-02  1.76015701e-02\n",
    "  -2.03382727e-02  4.51109186e-02 -2.02030148e-02  6.00176901e-02\n",
    "  -3.23803425e-02 -5.05402535e-02 -3.77166681e-02 -7.66030550e-02\n",
    "   3.79392616e-02  8.20330437e-03  3.78911267e-03 -4.78005793e-04\n",
    "  -1.30871646e-02 -3.43929194e-02 -2.29659975e-02  1.38488654e-02\n",
    "  -2.40767505e-02  8.31200778e-02  5.10078743e-02 -1.89717510e-03\n",
    "   5.63424528e-02  5.76290786e-02  1.19760484e-02  2.91834176e-02\n",
    "  -2.96422411e-02 -9.29331556e-02  1.55954678e-02 -3.25933611e-03\n",
    "  -2.39883224e-03 -2.57964879e-02 -1.03805456e-02 -7.19087943e-03\n",
    "  -5.24081476e-02 -3.63600478e-02  3.08204107e-02  6.10895567e-02\n",
    "  -3.90643347e-03  7.34980553e-02 -1.25038214e-02 -3.43297794e-02\n",
    "   2.11460143e-02  7.37809092e-02 -6.76054060e-02  1.10907257e-02\n",
    "   3.44633907e-02 -8.87159631e-03  3.63588072e-02 -2.84776930e-02\n",
    "  -6.85571581e-02 -4.28044610e-02  1.68109685e-02 -4.33694534e-02\n",
    "  -6.88249245e-02 -7.90993124e-02  5.28645366e-02  6.54709861e-02\n",
    "   3.08322348e-02 -5.69169689e-03  3.40434089e-02 -4.62870747e-02\n",
    "   8.17391425e-02 -1.35192312e-02  1.17729865e-02  8.90713781e-02\n",
    "   2.30759587e-02  3.48259024e-02  3.79126519e-02  5.22870794e-02\n",
    "   3.42694931e-02 -2.52284091e-02 -2.99401861e-02 -3.23126912e-02\n",
    "   2.98875347e-02  4.77116331e-02 -2.75164406e-04  3.93741950e-03\n",
    "   1.00288928e-01  3.48616615e-02 -8.19456000e-06 -5.46923047e-03\n",
    "  -3.59344929e-02 -3.30604538e-02  6.50439085e-03  5.17821051e-02\n",
    "   8.25907849e-03  5.44187203e-02 -1.35432547e-02  4.87234145e-02\n",
    "   8.67644232e-03  2.30474677e-02  1.16133643e-03 -4.33820672e-03\n",
    "   6.71808235e-03  1.34237669e-02  2.51314975e-03 -1.26300508e-03\n",
    "   2.18236689e-02  3.12099159e-02 -2.34017498e-03  2.82459576e-02\n",
    "   1.16364509e-01 -6.09342428e-03 -1.06660426e-01 -1.09601662e-01\n",
    "  -5.84628098e-02  1.59160048e-02 -4.75380383e-02 -3.54579575e-02\n",
    "  -1.95017811e-02 -4.35459688e-02 -4.10042331e-02  2.86331028e-02\n",
    "  -1.44052682e-02  7.58064762e-02  5.10720946e-02  6.20800480e-02\n",
    "  -2.04272512e-02  8.71391036e-03 -5.67162922e-03  3.99318431e-03\n",
    "  -1.80225857e-02  6.09160922e-02 -5.67296194e-03 -2.19942238e-02\n",
    "  -1.92127824e-02 -1.16258617e-02 -4.99209687e-02  3.74855287e-02\n",
    "   4.24178168e-02 -7.90876430e-03 -6.19143201e-03  5.62637709e-02\n",
    "  -2.53300499e-02  3.62723507e-02 -7.89754838e-03 -6.77008554e-02\n",
    "   2.67957579e-02  3.68171185e-03  1.16285477e-02 -7.39637762e-03\n",
    "  -3.41182426e-02 -1.79545749e-02 -5.14444597e-02 -2.73268018e-02\n",
    "   8.63852259e-03 -2.55110469e-02 -2.73581507e-04 -1.24415262e-02\n",
    "   1.11916356e-01  7.03705102e-02  1.23385135e-02  5.85803613e-02\n",
    "  -2.56735105e-02  8.78301859e-02 -1.88815072e-02 -4.59191389e-02\n",
    "  -5.72144724e-02  2.82341838e-02 -3.60980135e-04 -1.20926006e-02\n",
    "   4.55328897e-02 -6.38948381e-02 -5.90753481e-02  6.92005968e-03\n",
    "   4.03027795e-02  5.86436801e-02  3.52707729e-02 -5.33954091e-02\n",
    "  -1.16133234e-02  5.67868352e-02 -1.22383945e-01  3.05117089e-02\n",
    "   5.25141954e-02 -3.24655212e-02 -5.27777337e-02 -8.46767649e-02\n",
    "  -1.25925504e-02 -3.74070108e-02 -5.56155406e-02 -4.91401069e-02\n",
    "  -2.02490631e-02  5.76147102e-02 -2.56996471e-02  9.17950762e-04\n",
    "  -5.12101203e-02 -1.28514199e-02 -6.16678596e-02  5.83632430e-03\n",
    "   5.31936660e-02 -4.67110984e-02  5.99850640e-02 -6.06771209e-04\n",
    "  -3.39666717e-02 -4.68931906e-02 -3.77025418e-02  2.18738709e-02\n",
    "  -6.57394007e-02  9.84870940e-02  8.72209519e-02  2.63794828e-02\n",
    "   4.62754443e-02  6.97921216e-02 -9.03559476e-02  4.71533462e-02\n",
    "   1.31393466e-02  3.06900293e-02 -2.14917790e-02 -2.74315886e-02\n",
    "   6.72509968e-02  2.27177069e-02  3.02601196e-02  1.38179986e-02\n",
    "  -4.04901579e-02 -1.66330766e-02 -5.86083252e-03  5.70054390e-02\n",
    "   9.60947871e-02  8.36022347e-02 -7.22318664e-02 -2.04544999e-02\n",
    "   8.14385479e-04  1.54807745e-02  2.91733490e-03  6.73428643e-03\n",
    "  -3.38655151e-02  8.59013572e-02 -7.10195396e-04  2.36029960e-02\n",
    "   1.32758673e-02 -8.92666206e-02  2.13320423e-02 -7.62407435e-03\n",
    "  -1.30890459e-01 -1.21397674e-02  6.65325001e-02  1.74030196e-02\n",
    "  -9.54813138e-02  2.80318968e-02 -9.47578810e-03  4.44188528e-02\n",
    "  -8.55924562e-02 -2.53794994e-02  4.01553363e-02  3.96558829e-02\n",
    "   2.84677483e-02 -2.38389926e-04  5.08345366e-02 -7.63418106e-03\n",
    "  -3.13599519e-02 -2.98188962e-02  6.59498014e-03 -1.81806851e-02]]"
   ]
  },
  {
   "cell_type": "code",
   "execution_count": null,
   "metadata": {},
   "outputs": [
    {
     "ename": "SyntaxError",
     "evalue": "invalid syntax. Perhaps you forgot a comma? (3661350445.py, line 1)",
     "output_type": "error",
     "traceback": [
      "\u001b[1;36m  Cell \u001b[1;32mIn[29], line 1\u001b[1;36m\u001b[0m\n\u001b[1;33m    array_2 = [[ 0.00366359 -0.00980515  0.07540383  0.00641607  0.06108664  0.03467018\u001b[0m\n\u001b[1;37m                 ^\u001b[0m\n\u001b[1;31mSyntaxError\u001b[0m\u001b[1;31m:\u001b[0m invalid syntax. Perhaps you forgot a comma?\n"
     ]
    }
   ],
   "source": [
    "array_2 = [[-7.85858259e-02  7.12907538e-02  6.14989735e-03  2.01968499e-03\n",
    "   1.05386630e-01  6.76766112e-02  4.50795703e-02 -9.12087858e-02\n",
    "   2.40475461e-02  2.26881132e-02  1.99639313e-02 -6.04591565e-03\n",
    "  -2.26022545e-02 -2.12184414e-02 -3.76298614e-02  1.69947855e-02\n",
    "   5.76241016e-02  7.03313351e-02  1.89078785e-02 -1.18807203e-03\n",
    "  -2.36736480e-02 -1.72245875e-02  1.49688914e-01 -2.16134153e-02\n",
    "  -1.49916857e-02 -1.03599988e-02  8.34512413e-02 -1.15387021e-02\n",
    "  -3.25125456e-02 -2.35740747e-02 -2.46273447e-02  2.66832728e-02\n",
    "  -8.75416696e-02  5.00328861e-05  4.18236107e-02  2.25926028e-03\n",
    "   1.18978530e-01 -9.26278159e-02 -5.84242716e-02 -9.18131135e-03\n",
    "   3.63990851e-02 -2.71755550e-03  2.47715712e-02  4.30520289e-02\n",
    "   3.53986718e-04 -4.39844504e-02  4.32560407e-03  9.97797921e-02\n",
    "  -8.27569216e-02 -6.44123275e-03 -2.87720542e-02  8.26075021e-03\n",
    "   6.92043919e-03 -2.58962251e-02 -7.29530444e-03 -2.28166860e-02\n",
    "  -1.05293784e-02  1.76740773e-02  3.45979184e-02  6.28289729e-02\n",
    "   5.03405482e-02  9.17313271e-04  1.56406965e-02 -3.52854393e-02\n",
    "  -2.10615303e-02 -3.92226689e-02 -2.82533076e-02  1.94136500e-02\n",
    "  -1.95740517e-02  9.76680871e-03  7.89739937e-03 -5.20645864e-02\n",
    "   7.41816908e-02 -1.75762770e-03  3.04241162e-02 -4.79849502e-02\n",
    "   2.15197969e-02  1.04255313e-02 -8.85084923e-03 -1.49933454e-02\n",
    "  -6.34391978e-02 -2.80230939e-02 -6.31471798e-02  4.35941759e-03\n",
    "  -2.92150285e-02 -1.94797677e-03 -1.57842860e-02  2.08167825e-02\n",
    "  -5.37427962e-02 -1.44901928e-02 -2.87889186e-02  9.67802107e-03\n",
    "   1.29646827e-02 -2.28332318e-02  1.15639139e-02 -5.20023406e-02\n",
    "  -2.98444331e-02  4.71804515e-02  5.79011219e-04  6.76530600e-02\n",
    "   3.88565799e-03  3.47757004e-02 -1.12002485e-01  1.59905385e-02\n",
    "  -5.71685061e-02  2.19253469e-02 -2.60547772e-02  2.37526242e-02\n",
    "   3.20684165e-03 -1.61613896e-02  5.93491234e-02 -6.04400821e-02\n",
    "  -1.59658380e-02  3.64940725e-02  7.59720197e-03  2.79634129e-02\n",
    "   2.96679838e-03  1.35062905e-02  1.54368067e-02 -2.39694528e-02\n",
    "   9.17518362e-02 -4.96603642e-03  6.55537099e-02  5.18396944e-02\n",
    "   1.66625734e-02 -5.73155470e-02 -7.59790139e-03  9.43220183e-02\n",
    "  -3.22084911e-02  3.74817103e-02 -7.38385692e-02 -4.71956730e-02\n",
    "   2.27542035e-02 -5.21347523e-02 -6.73806518e-02  5.95778823e-02\n",
    "  -4.40821759e-02 -6.94389865e-02 -3.56284678e-02  3.04507073e-02\n",
    "  -9.65606980e-03 -8.59786049e-02 -2.14630198e-02  3.18369195e-02\n",
    "  -4.47963253e-02 -2.57919542e-02  8.91646743e-03 -2.22809538e-02\n",
    "   8.37932974e-02 -5.00750914e-02 -1.94424037e-02  7.04114959e-02\n",
    "   7.87835568e-03  2.59105559e-03  4.87441458e-02 -5.66135608e-02\n",
    "  -1.19226063e-02  2.71758903e-02 -6.15025964e-03  1.45611512e-02\n",
    "   5.59288636e-02  8.22071731e-02  3.44940368e-03  4.44333516e-02\n",
    "   4.69541699e-02 -7.73124350e-03  3.64487153e-03 -1.18693681e-02\n",
    "  -4.91062514e-02 -2.23374926e-02 -1.12697454e-02  9.49645508e-03\n",
    "  -2.74382159e-03 -2.32496187e-02  3.32912285e-04 -4.12296690e-02\n",
    "   2.50900239e-02  3.62673253e-02 -4.49263975e-02  4.14755344e-02\n",
    "  -3.39121968e-02  1.16720140e-01 -2.23896150e-02 -2.59592291e-02\n",
    "  -2.19265763e-02 -3.03970221e-02 -4.99693044e-02 -2.24840664e-03\n",
    "  -8.18728749e-03  2.94108856e-02 -3.68940085e-02  6.83805672e-03\n",
    "   3.32868174e-02 -5.89892492e-02  5.19727496e-03 -5.16012907e-02\n",
    "  -2.65075117e-02  8.13418999e-03  2.96069924e-02  1.31653026e-02\n",
    "   5.62360231e-03 -9.42009836e-02 -2.29766853e-02 -2.42116675e-02\n",
    "   2.09213840e-03  1.19759804e-02 -3.09383422e-02 -5.50317056e-02\n",
    "  -4.31498848e-02  3.24803852e-02 -9.54433111e-04 -1.79582201e-02\n",
    "  -1.12125631e-02 -2.63631828e-02 -3.09319124e-02  6.61286712e-02\n",
    "   2.73198653e-02 -1.41057223e-02 -1.36660114e-02 -2.83613708e-03\n",
    "   3.86521257e-02 -3.76581550e-02  9.80198011e-02 -6.49555773e-02\n",
    "   2.18478329e-02  1.01522148e-01  1.30588179e-02  1.18060103e-02\n",
    "   1.02808215e-02  5.55616803e-02 -7.71301007e-03  3.63279060e-02\n",
    "  -8.59640352e-03  7.83512741e-02  3.65371108e-02  2.21386310e-02\n",
    "  -3.94582003e-02 -9.71395224e-02  1.46435369e-02  3.37347463e-02\n",
    "  -4.64623310e-02 -6.50994107e-02 -8.24916875e-04 -3.07540931e-02\n",
    "   7.81192482e-02 -5.36969071e-03 -5.24689592e-02  1.69039685e-02\n",
    "   6.64833412e-02  3.45852249e-03  2.80485861e-02 -7.19003007e-03\n",
    "   9.25969519e-03 -6.18824698e-02  3.80047858e-02 -5.45680560e-02\n",
    "  -6.41162042e-03  3.48481201e-02 -1.90443527e-02  1.76015701e-02\n",
    "  -2.03382727e-02  4.51109186e-02 -2.02030148e-02  6.00176901e-02\n",
    "  -3.23803425e-02 -5.05402535e-02 -3.77166681e-02 -7.66030550e-02\n",
    "   3.79392616e-02  8.20330437e-03  3.78911267e-03 -4.78005793e-04\n",
    "  -1.30871646e-02 -3.43929194e-02 -2.29659975e-02  1.38488654e-02\n",
    "  -2.40767505e-02  8.31200778e-02  5.10078743e-02 -1.89717510e-03\n",
    "   5.63424528e-02  5.76290786e-02  1.19760484e-02  2.91834176e-02\n",
    "  -2.96422411e-02 -9.29331556e-02  1.55954678e-02 -3.25933611e-03\n",
    "  -2.39883224e-03 -2.57964879e-02 -1.03805456e-02 -7.19087943e-03\n",
    "  -5.24081476e-02 -3.63600478e-02  3.08204107e-02  6.10895567e-02\n",
    "  -3.90643347e-03  7.34980553e-02 -1.25038214e-02 -3.43297794e-02\n",
    "   2.11460143e-02  7.37809092e-02 -6.76054060e-02  1.10907257e-02\n",
    "   3.44633907e-02 -8.87159631e-03  3.63588072e-02 -2.84776930e-02\n",
    "  -6.85571581e-02 -4.28044610e-02  1.68109685e-02 -4.33694534e-02\n",
    "  -6.88249245e-02 -7.90993124e-02  5.28645366e-02  6.54709861e-02\n",
    "   3.08322348e-02 -5.69169689e-03  3.40434089e-02 -4.62870747e-02\n",
    "   8.17391425e-02 -1.35192312e-02  1.17729865e-02  8.90713781e-02\n",
    "   2.30759587e-02  3.48259024e-02  3.79126519e-02  5.22870794e-02\n",
    "   3.42694931e-02 -2.52284091e-02 -2.99401861e-02 -3.23126912e-02\n",
    "   2.98875347e-02  4.77116331e-02 -2.75164406e-04  3.93741950e-03\n",
    "   1.00288928e-01  3.48616615e-02 -8.19456000e-06 -5.46923047e-03\n",
    "  -3.59344929e-02 -3.30604538e-02  6.50439085e-03  5.17821051e-02\n",
    "   8.25907849e-03  5.44187203e-02 -1.35432547e-02  4.87234145e-02\n",
    "   8.67644232e-03  2.30474677e-02  1.16133643e-03 -4.33820672e-03\n",
    "   6.71808235e-03  1.34237669e-02  2.51314975e-03 -1.26300508e-03\n",
    "   2.18236689e-02  3.12099159e-02 -2.34017498e-03  2.82459576e-02\n",
    "   1.16364509e-01 -6.09342428e-03 -1.06660426e-01 -1.09601662e-01\n",
    "  -5.84628098e-02  1.59160048e-02 -4.75380383e-02 -3.54579575e-02\n",
    "  -1.95017811e-02 -4.35459688e-02 -4.10042331e-02  2.86331028e-02\n",
    "  -1.44052682e-02  7.58064762e-02  5.10720946e-02  6.20800480e-02\n",
    "  -2.04272512e-02  8.71391036e-03 -5.67162922e-03  3.99318431e-03\n",
    "  -1.80225857e-02  6.09160922e-02 -5.67296194e-03 -2.19942238e-02\n",
    "  -1.92127824e-02 -1.16258617e-02 -4.99209687e-02  3.74855287e-02\n",
    "   4.24178168e-02 -7.90876430e-03 -6.19143201e-03  5.62637709e-02\n",
    "  -2.53300499e-02  3.62723507e-02 -7.89754838e-03 -6.77008554e-02\n",
    "   2.67957579e-02  3.68171185e-03  1.16285477e-02 -7.39637762e-03\n",
    "  -3.41182426e-02 -1.79545749e-02 -5.14444597e-02 -2.73268018e-02\n",
    "   8.63852259e-03 -2.55110469e-02 -2.73581507e-04 -1.24415262e-02\n",
    "   1.11916356e-01  7.03705102e-02  1.23385135e-02  5.85803613e-02\n",
    "  -2.56735105e-02  8.78301859e-02 -1.88815072e-02 -4.59191389e-02\n",
    "  -5.72144724e-02  2.82341838e-02 -3.60980135e-04 -1.20926006e-02\n",
    "   4.55328897e-02 -6.38948381e-02 -5.90753481e-02  6.92005968e-03\n",
    "   4.03027795e-02  5.86436801e-02  3.52707729e-02 -5.33954091e-02\n",
    "  -1.16133234e-02  5.67868352e-02 -1.22383945e-01  3.05117089e-02\n",
    "   5.25141954e-02 -3.24655212e-02 -5.27777337e-02 -8.46767649e-02\n",
    "  -1.25925504e-02 -3.74070108e-02 -5.56155406e-02 -4.91401069e-02\n",
    "  -2.02490631e-02  5.76147102e-02 -2.56996471e-02  9.17950762e-04\n",
    "  -5.12101203e-02 -1.28514199e-02 -6.16678596e-02  5.83632430e-03\n",
    "   5.31936660e-02 -4.67110984e-02  5.99850640e-02 -6.06771209e-04\n",
    "  -3.39666717e-02 -4.68931906e-02 -3.77025418e-02  2.18738709e-02\n",
    "  -6.57394007e-02  9.84870940e-02  8.72209519e-02  2.63794828e-02\n",
    "   4.62754443e-02  6.97921216e-02 -9.03559476e-02  4.71533462e-02\n",
    "   1.31393466e-02  3.06900293e-02 -2.14917790e-02 -2.74315886e-02\n",
    "   6.72509968e-02  2.27177069e-02  3.02601196e-02  1.38179986e-02\n",
    "  -4.04901579e-02 -1.66330766e-02 -5.86083252e-03  5.70054390e-02\n",
    "   9.60947871e-02  8.36022347e-02 -7.22318664e-02 -2.04544999e-02\n",
    "   8.14385479e-04  1.54807745e-02  2.91733490e-03  6.73428643e-03\n",
    "  -3.38655151e-02  8.59013572e-02 -7.10195396e-04  2.36029960e-02\n",
    "   1.32758673e-02 -8.92666206e-02  2.13320423e-02 -7.62407435e-03\n",
    "  -1.30890459e-01 -1.21397674e-02  6.65325001e-02  1.74030196e-02\n",
    "  -9.54813138e-02  2.80318968e-02 -9.47578810e-03  4.44188528e-02\n",
    "  -8.55924562e-02 -2.53794994e-02  4.01553363e-02  3.96558829e-02\n",
    "   2.84677483e-02 -2.38389926e-04  5.08345366e-02 -7.63418106e-03\n",
    "  -3.13599519e-02 -2.98188962e-02  6.59498014e-03 -1.81806851e-02]]"
   ]
  },
  {
   "cell_type": "code",
   "execution_count": 30,
   "metadata": {},
   "outputs": [
    {
     "ename": "NameError",
     "evalue": "name 'array_1' is not defined",
     "output_type": "error",
     "traceback": [
      "\u001b[1;31m---------------------------------------------------------------------------\u001b[0m",
      "\u001b[1;31mNameError\u001b[0m                                 Traceback (most recent call last)",
      "Cell \u001b[1;32mIn[30], line 1\u001b[0m\n\u001b[1;32m----> 1\u001b[0m \u001b[38;5;28mprint\u001b[39m(\u001b[38;5;124m\"\u001b[39m\u001b[38;5;124mvalue: \u001b[39m\u001b[38;5;124m\"\u001b[39m, \u001b[43marray_1\u001b[49m\u001b[38;5;241m-\u001b[39marray_2)\n",
      "\u001b[1;31mNameError\u001b[0m: name 'array_1' is not defined"
     ]
    }
   ],
   "source": [
    "print(\"value: \", array_1-array_2)"
   ]
  },
  {
   "cell_type": "code",
   "execution_count": null,
   "metadata": {},
   "outputs": [],
   "source": []
  }
 ],
 "metadata": {
  "kernelspec": {
   "display_name": "Python 3",
   "language": "python",
   "name": "python3"
  },
  "language_info": {
   "codemirror_mode": {
    "name": "ipython",
    "version": 3
   },
   "file_extension": ".py",
   "mimetype": "text/x-python",
   "name": "python",
   "nbconvert_exporter": "python",
   "pygments_lexer": "ipython3",
   "version": "3.11.0"
  }
 },
 "nbformat": 4,
 "nbformat_minor": 2
}
