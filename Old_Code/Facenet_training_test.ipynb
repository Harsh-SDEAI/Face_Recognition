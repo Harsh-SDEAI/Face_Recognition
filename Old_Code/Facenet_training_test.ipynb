{
 "cells": [
  {
   "cell_type": "code",
   "execution_count": null,
   "metadata": {},
   "outputs": [],
   "source": [
    "from facenet_pytorch import InceptionResnetV1\n",
    "import torch\n",
    "import torch.nn as nn\n",
    "import torch.optim as optim\n",
    "\n",
    "# Load FaceNet pre-trained on VGGFace2 or CASIA-WebFace\n",
    "model = InceptionResnetV1(pretrained='vggface2').eval()\n",
    "\n",
    "# Move model to GPU if available\n",
    "device = torch.device('cuda' if torch.cuda.is_available() else 'cpu')\n",
    "model = model.to(device)\n",
    "\n",
    "# Freeze all layers initially\n",
    "for param in model.parameters():\n",
    "    param.requires_grad = False\n"
   ]
  },
  {
   "cell_type": "code",
   "execution_count": null,
   "metadata": {},
   "outputs": [],
   "source": [
    "# Unfreeze the last few layers to fine-tune on game photos\n",
    "for name, param in model.named_parameters():\n",
    "    if 'conv2d_7b' in name or 'last_linear' in name:\n",
    "        param.requires_grad = True\n"
   ]
  },
  {
   "cell_type": "code",
   "execution_count": null,
   "metadata": {},
   "outputs": [],
   "source": [
    "from torchvision import datasets, transforms\n",
    "from torch.utils.data import DataLoader\n",
    "\n",
    "transform = transforms.Compose([\n",
    "    transforms.Resize((160, 160)),\n",
    "    transforms.ToTensor(),\n",
    "    transforms.Normalize([0.5, 0.5, 0.5], [0.5, 0.5, 0.5])\n",
    "])\n",
    "\n",
    "game_dataset = datasets.ImageFolder('path/to/game_photos', transform=transform)\n",
    "game_loader = DataLoader(game_dataset, batch_size=32, shuffle=True)\n"
   ]
  },
  {
   "cell_type": "code",
   "execution_count": null,
   "metadata": {},
   "outputs": [],
   "source": [
    "class TripletLoss(nn.Module):\n",
    "    def __init__(self, margin=1.0):\n",
    "        super(TripletLoss, self).__init__()\n",
    "        self.margin = margin\n",
    "\n",
    "    def forward(self, anchor, positive, negative):\n",
    "        pos_dist = (anchor - positive).pow(2).sum(1)  # L2 distance between anchor and positive\n",
    "        neg_dist = (anchor - negative).pow(2).sum(1)  # L2 distance between anchor and negative\n",
    "        loss = torch.relu(pos_dist - neg_dist + self.margin)\n",
    "        return loss.mean()\n"
   ]
  },
  {
   "cell_type": "code",
   "execution_count": null,
   "metadata": {},
   "outputs": [],
   "source": [
    "# Initialize loss and optimizer\n",
    "triplet_loss = TripletLoss(margin=1.0).to(device)\n",
    "optimizer = optim.Adam(filter(lambda p: p.requires_grad, model.parameters()), lr=1e-5)\n",
    "\n",
    "# Training loop\n",
    "num_epochs = 5\n",
    "for epoch in range(num_epochs):\n",
    "    model.train()\n",
    "    total_loss = 0.0\n",
    "    \n",
    "    for i, (images, _) in enumerate(game_loader):\n",
    "        images = images.to(device)\n",
    "        \n",
    "        # Split images into anchor, positive, and negative samples \n",
    "        anchors = images[::3]   # Every 3rd image as anchor\n",
    "        positives = images[1::3] # Shifted image as positive\n",
    "        negatives = images[2::3] # Next shifted image as negative\n",
    "\n",
    "        if len(anchors) != len(positives) or len(anchors) != len(negatives):\n",
    "            continue  # Skip batch if it doesn't fit\n",
    "\n",
    "        # Generate embeddings\n",
    "        anchor_embeds = model(anchors)\n",
    "        positive_embeds = model(positives)\n",
    "        negative_embeds = model(negatives)\n",
    "\n",
    "        # Calculate loss\n",
    "        loss = triplet_loss(anchor_embeds, positive_embeds, negative_embeds)\n",
    "\n",
    "        # Backward and optimize\n",
    "        optimizer.zero_grad()\n",
    "        loss.backward()\n",
    "        optimizer.step()\n",
    "\n",
    "        total_loss += loss.item()\n",
    "\n",
    "    print(f'Epoch [{epoch+1}/{num_epochs}], Loss: {total_loss / len(game_loader)}')\n"
   ]
  },
  {
   "cell_type": "code",
   "execution_count": null,
   "metadata": {},
   "outputs": [],
   "source": [
    "torch.save(model.state_dict(), 'fine_tuned_facenet.pth')\n",
    "    "
   ]
  },
  {
   "cell_type": "code",
   "execution_count": null,
   "metadata": {},
   "outputs": [],
   "source": [
    "def get_embedding(model, image_path):\n",
    "    image = Image.open(image_path)\n",
    "    image = transform(image).unsqueeze(0).to(device)\n",
    "    with torch.no_grad():\n",
    "        embedding = model(image).cpu().numpy()\n",
    "    return embedding\n",
    "\n",
    "# Example usage\n",
    "studio_embedding = get_embedding(model, 'path/to/studio_photo.jpg')\n",
    "game_embedding = get_embedding(model, 'path/to/game_photo.jpg')\n",
    "\n",
    "# Calculate similarity (e.g., cosine similarity)\n",
    "from numpy.linalg import norm\n",
    "similarity = np.dot(studio_embedding, game_embedding.T) / (norm(studio_embedding) * norm(game_embedding))\n",
    "print(\"Similarity:\", similarity)\n"
   ]
  },
  {
   "cell_type": "code",
   "execution_count": null,
   "metadata": {},
   "outputs": [],
   "source": []
  }
 ],
 "metadata": {
  "language_info": {
   "name": "python"
  }
 },
 "nbformat": 4,
 "nbformat_minor": 2
}
